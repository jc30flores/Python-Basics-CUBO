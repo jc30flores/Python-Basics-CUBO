{
 "cells": [
  {
   "cell_type": "code",
   "execution_count": null,
   "id": "096ed555",
   "metadata": {},
   "outputs": [],
   "source": [
    "import pruebas"
   ]
  },
  {
   "cell_type": "markdown",
   "id": "8e9d7a1e",
   "metadata": {},
   "source": [
    "# PRIMER EJERCICIO: \n",
    "##  -- Boolean Expressions --\n",
    "\n",
    "#### Completa el cuestionario como tu creas correcto."
   ]
  },
  {
   "cell_type": "code",
   "execution_count": null,
   "id": "df4a023f",
   "metadata": {},
   "outputs": [],
   "source": [
    "a = 'Yes'\n",
    "b = 'No'\n",
    "\n",
    "#Cuales de las siguientes expresiones son booleanas, y cuales no?\n",
    "\n",
    "boolean_quiz = {\"My dog is the cutest dog in the world.\": #Escribe aqui tu respuesta,\n",
    "                \"Dogs are mammals.\": #Escribe aqui tu respuesta,\n",
    "                \"My dog is named Pavel.\": #Escribe aqui tu respuesta,\n",
    "                \"Dogs make the best pets.\": #Escribe aqui tu respuesta,\n",
    "                \"You are a genius.\": #Escribe aqui tu respuesta \n",
    "               }\n",
    "\n",
    "pruebas.bool_test(boolean_quiz)"
   ]
  },
  {
   "cell_type": "markdown",
   "id": "4c0656a8",
   "metadata": {},
   "source": [
    "# SEGUNDO EJERCICIO: \n",
    "##  -- Relational Operators --\n",
    "\n",
    "#### Completa el cuestionario como tu creas correcto."
   ]
  },
  {
   "cell_type": "code",
   "execution_count": null,
   "id": "5f2d4137",
   "metadata": {},
   "outputs": [],
   "source": [
    "a = True\n",
    "b = False\n",
    "\n",
    "#Cuales de las siguientes expresiones son True or False?\n",
    "\n",
    "relational_quiz = {(5 * 2) - 1 == 8 + 1: #Escribe aqui tu respuesta,\n",
    "                13 - 6 != (3 * 2) + 1: #Escribe aqui tu respuesta,\n",
    "                3 * (2 - 1) == 4 - 1: #Escribe aqui tu respuesta,\n",
    "                8 * (3 - 5) != 4 - 20: #Escribe aqui tu respuesta,\n",
    "                57 - 13 != (3 * 2) + 1: #Escribe aqui tu respuesta \n",
    "               }\n",
    "\n",
    "pruebas.relational_test(relational_quiz)"
   ]
  },
  {
   "cell_type": "markdown",
   "id": "d9ab3e0b",
   "metadata": {},
   "source": [
    "# TERCER EJERCICIO: \n",
    "##  -- Boolean Variables --\n",
    "\n",
    "#### Crea 2 variables y asignales los valores \"true\" para la primera variable y True para la segunda variable, y luego revisa el tipo de variable de cada una usando type() e imprimelo."
   ]
  },
  {
   "cell_type": "code",
   "execution_count": null,
   "id": "942d5a8b",
   "metadata": {},
   "outputs": [],
   "source": [
    "#Crea una variable llamada my_baby_bool y asignale el valor \"true\"\n",
    "\n",
    "\n",
    "\n",
    "#Crea una variable llamada my_baby_bool_two y asignale el valor True\n",
    "\n",
    "\n",
    "\n",
    "#Imprime el tipo de cada una de ellas usando type().\n",
    "#Ejemplo ----> print(type(variable_name))\n",
    "\n",
    "\n"
   ]
  },
  {
   "cell_type": "markdown",
   "id": "36dc856e",
   "metadata": {},
   "source": [
    "# CUARTO EJERCICIO: \n",
    "##  -- If Statement --\n",
    "\n",
    "#### Arregla el siguiente ejercicio encontrando los errores en la if statement."
   ]
  },
  {
   "cell_type": "code",
   "execution_count": null,
   "id": "ceccaf49",
   "metadata": {},
   "outputs": [],
   "source": [
    "#Crea una variable llamada user_name y asignale como valor una string con el nombre Bob Esponja.\n",
    "#Asegurate que sea una string.\n",
    "\n",
    "\n",
    "\n",
    "\n",
    "#Ejecuta la celda, y luego identifica el error en la siguiente if statement.\n",
    "\n",
    "if user_name = \"Bob Esponja\":\n",
    "    print(\"Bob Esponja es el mejor cocinero de todo Fondo de Bikini!\")\n",
    "    \n",
    "#Despues de haber corregido el error, crea una nueva if statement pero en vez de detectar si user_name es igual a \n",
    "#Bob esponja, verifica si user_name es igual a Patricio Estrella, y ahora asignale la string de Patricio Estrella \n",
    "#A la variable user_name y en la print statement imprime lo siguiente: \n",
    "#---> \"Patricio Estrella es el mejor amigo de Bob Esponja\"\n",
    "\n",
    "\n",
    "\n",
    "\n"
   ]
  },
  {
   "cell_type": "markdown",
   "id": "1f5d2b3b",
   "metadata": {},
   "source": [
    "# QUINTO EJERCICIO: \n",
    "##  -- Relational Operators II --\n",
    "\n",
    "#### Crea 2 if statement usando cualquiera de los relational operators que se te mostraron en la clase."
   ]
  },
  {
   "cell_type": "code",
   "execution_count": null,
   "id": "f7b718b8",
   "metadata": {},
   "outputs": [],
   "source": [
    "#1. Crearas la if statement, luego crearas una variable para probar tu if statement.\n",
    "#2. Haras lo mismo pero usando otro relational operator.\n",
    "\n",
    "#Ejemplo:\n",
    "\n",
    "#edad = 75\n",
    "\n",
    "#if variable_ejemplo > 70:\n",
    "    #print(\"Usted es mayor de 70, porfavor tenga cuidado al caminar, el piso es resbaloso.\")\n",
    "    \n",
    "#Ahora haz algo similar tu, con otro ejemplo y otro relational operator.\n",
    "\n",
    "\n",
    "\n",
    "\n"
   ]
  },
  {
   "cell_type": "markdown",
   "id": "2aa54bfe",
   "metadata": {},
   "source": [
    "# SEXTO EJERCICIO: \n",
    "##  -- Boolean Operators: and, or, not --\n",
    "\n",
    "#### Completa los cuestionarios con las respuestas correctas, luego crea una if statement como los ejercicios anteriores pero usando \"and\", \"or\" y \"not\"."
   ]
  },
  {
   "cell_type": "code",
   "execution_count": null,
   "id": "e251d348",
   "metadata": {},
   "outputs": [],
   "source": [
    "#Usando \"and\" operator.\n",
    "\n",
    "a = False\n",
    "b = True\n",
    "\n",
    "dct_and = {((2+2+2 >= 6) and (-1 * -1 < 0)): #Tu respuesta aqui,\n",
    "           ((4*2 <= 8) and (7 - 1 == 6)): #Tu respuesta aqui\n",
    "          }\n",
    "\n",
    "pruebas.and_test(dct_and)\n",
    "\n",
    "#Ejemplo de la if statement\n",
    "\n",
    "#age_sofia = 17\n",
    "#age_nicolas = 20\n",
    "#if (age_sofia < 18) and (age_nicolas > 20):\n",
    "    #print(\"Ten cuidado Nicolas, te pueden meter preso si te metes con Sofia...\")\n",
    "    \n",
    "#Ahora crea tu if statement aqui abajo usando el operator and\n",
    "\n",
    "\n",
    "\n"
   ]
  },
  {
   "cell_type": "code",
   "execution_count": null,
   "id": "8c3c4ef6",
   "metadata": {},
   "outputs": [],
   "source": [
    "#Usando \"or\" operator.\n",
    "\n",
    "a = False\n",
    "b = True\n",
    "\n",
    "dct_or = {((2 - 1 > 3) or (-5 * 2 == -10)): #Tu respuesta aqui,\n",
    "           ((9 + 5 <= 15) or (7 != 4 + 3)): #Tu respuesta aqui\n",
    "          }\n",
    "\n",
    "pruebas.or_test(dct_and)\n",
    "\n",
    "#Ejemplo de la if statement\n",
    "\n",
    "#name_song = 'Remember the name'\n",
    "#name_song_2 = 'September'\n",
    "#if (name_song == 'Remember the name') or (name_song_2 == 'September'):\n",
    "    #print(\"Que buena musica, al menos una no es de el Vad Voni...\")\n",
    "    \n",
    "#Ahora crea tu if statement aqui abajo usando el operator or\n",
    "\n",
    "\n",
    "\n"
   ]
  },
  {
   "cell_type": "code",
   "execution_count": null,
   "id": "5a7b9ea6",
   "metadata": {},
   "outputs": [],
   "source": [
    "#Usando \"not\" operator.\n",
    "\n",
    "a = False\n",
    "b = True\n",
    "\n",
    "dct_not = {(not (4 + 5 <= 9)): #Tu respuesta aqui,\n",
    "           (not (8 * 2) != 20 - 4): #Tu respuesta aqui\n",
    "          }\n",
    "\n",
    "pruebas.not_test(dct_and)"
   ]
  },
  {
   "cell_type": "markdown",
   "id": "f1af9530",
   "metadata": {},
   "source": [
    "# SEPTIMO EJERCICIO: \n",
    "##  -- Else Statement --\n",
    "\n",
    "#### Crea una variable llamada score y asignale un valor entre 1 - 10, luego crea una if statement que imprima \"APROBADO\" si el valor de la variable anterior es mayor o igual que 7 y \"DENEGADO\" si es lo contrario, usando else statement."
   ]
  },
  {
   "cell_type": "code",
   "execution_count": null,
   "id": "fb2a02f0",
   "metadata": {},
   "outputs": [],
   "source": [
    "#Ejemplo:\n",
    "#Valentina_age = 18\n",
    "#if Pepito_age >= 18:\n",
    "    #print(\"LEGAL\")\n",
    "#else:\n",
    "    #print(\"BARTOCHAS\")\n",
    "\n",
    "#Ahora haz tu codigo aqui abajo:\n",
    "\n",
    "\n"
   ]
  },
  {
   "cell_type": "markdown",
   "id": "82a70afd",
   "metadata": {},
   "source": [
    "# OCTAVO EJERCICIO: \n",
    "##  -- Else If Statement --\n",
    "\n",
    "#### Crea una variable llamada score y asignale un valor entre 1 - 10, luego crea una if statement que imprima. \n",
    "\n",
    "#### \"EXCELENTE\" si el valor de la variable anterior es mayor o igual que 9, usando elif. \n",
    "\n",
    "#### \"MUY BUENO\" si es mayor o igual que 7 y menor o igual que 8, usando elif.\n",
    "\n",
    "#### \"BUENO\" si es mayor o igual que 5 y menor o igual que 6, usando elif.\n",
    "\n",
    "#### \"MALO\" si es lo contrario, usando else statement."
   ]
  },
  {
   "cell_type": "code",
   "execution_count": null,
   "id": "05a084dc",
   "metadata": {},
   "outputs": [],
   "source": [
    "#Ejemplo:\n",
    "#mens_vehicle = \"Tiene HILUX\"\n",
    "#if mens_vehicle == \"Tiene HILUX\":\n",
    "    #print('Hombre deseado por todas las interesadas')\n",
    "#elif mens_vehicle == \"Tiene CIVIC\":\n",
    "    #print('Que pro, pero no es tan codiciado')\n",
    "#elif mens_vehicle == \"Tiene bici\":\n",
    "    #print('HOMBRE GOD, codiciado por todas, las buenas y las malas mujeres, este tiene la vida hecha')\n",
    "#elif mens_vehicle == \"Tiene moto\":\n",
    "    #print('Seguro se mata pronto')\n",
    "#else:\n",
    "    #print('Solo una mujer que no es interesada los ama')\n",
    "    \n",
    "    \n",
    "#Ahora escribe tu codigo aqui abajo\n",
    "\n",
    "\n"
   ]
  }
 ],
 "metadata": {
  "kernelspec": {
   "display_name": "Python 3 (ipykernel)",
   "language": "python",
   "name": "python3"
  },
  "language_info": {
   "codemirror_mode": {
    "name": "ipython",
    "version": 3
   },
   "file_extension": ".py",
   "mimetype": "text/x-python",
   "name": "python",
   "nbconvert_exporter": "python",
   "pygments_lexer": "ipython3",
   "version": "3.9.12"
  }
 },
 "nbformat": 4,
 "nbformat_minor": 5
}
