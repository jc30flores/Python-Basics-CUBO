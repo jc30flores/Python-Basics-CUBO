{
 "cells": [
  {
   "cell_type": "markdown",
   "id": "08cd1517",
   "metadata": {},
   "source": [
    "## First method \".count()\""
   ]
  },
  {
   "cell_type": "code",
   "execution_count": null,
   "id": "29688fe9",
   "metadata": {},
   "outputs": [],
   "source": [
    "numbers = [1,1,111,1,2,3,43,4,6,7,6,7,43,86,23,1,2]\n",
    "\n",
    "#Necesitamos saber cuantas veces se encuentra el numero 1 en la lista numbers\n",
    "#Usa el metodo count e imprime el resultado\n",
    "\n",
    "#ejmplo:\n",
    "\n",
    "#list_name.count(elmt)\n",
    "\n",
    "#Tu codigo aqui abajo:\n",
    "\n",
    "\n",
    "\n"
   ]
  },
  {
   "cell_type": "markdown",
   "id": "ddebda14",
   "metadata": {},
   "source": [
    "## Second method \".insert()\""
   ]
  },
  {
   "cell_type": "code",
   "execution_count": null,
   "id": "6210d1f4",
   "metadata": {},
   "outputs": [],
   "source": [
    "abc = ['a', 'b', 'd', 'e', 'f', 'g', 'h', 'i', 'j', 'k', 'l', 'm', 'o']\n",
    "\n",
    "#Necesitamos insertar las letras 'c' y 'n' en la lista de arriba segun el orden del abecedario\n",
    "#Usa el metodo insert e imprime la lista mala y la lista arreglada.\n",
    "\n",
    "#ejemplo:\n",
    "#list_name.insert(index, elmt)\n",
    "\n",
    "\n",
    "#Tu codigo aqui abajo:\n",
    "\n",
    "\n",
    "\n"
   ]
  },
  {
   "cell_type": "markdown",
   "id": "ca98138e",
   "metadata": {},
   "source": [
    "## Third method \".pop()\""
   ]
  },
  {
   "cell_type": "code",
   "execution_count": null,
   "id": "b0382e63",
   "metadata": {},
   "outputs": [],
   "source": [
    "bad_songs = [\"Rhinstone Eyes\", \"Centuries\", \"Bichota\", \"La Perla\", \"Last Train to London\", \"Me porto bonito\", \"Back in Black\", \"Hells Bells\"]\n",
    "\n",
    "#Elimina las canciones que tu creas que son una abominacion para nuestros oidos.\n",
    "#Usa el metodo pop e imprima la lista ya arreglada\n",
    "\n",
    "#ejemplo:\n",
    "#list_name.pop(index)\n",
    "\n"
   ]
  },
  {
   "cell_type": "markdown",
   "id": "fe8b0c2f",
   "metadata": {},
   "source": [
    "## Fourth method \"range()\""
   ]
  },
  {
   "cell_type": "code",
   "execution_count": null,
   "id": "3ab6d641",
   "metadata": {},
   "outputs": [],
   "source": [
    "#Necesitamos una lista que contenga los numeros del 1 al 20 \n",
    "#Y tambien otra lista que contenga los numeros del 5 al 100\n",
    "#pero deben de ir cada 5, empezando con el 5 y terminando con el 100\n",
    "\n",
    "#ejemplo:\n",
    "\n",
    "#list_name = list(range(start, end+1, jump))\n",
    "\n",
    "#Tu codigo aqui abajo:\n",
    "\n",
    "\n"
   ]
  },
  {
   "cell_type": "markdown",
   "id": "98f5944c",
   "metadata": {},
   "source": [
    "## Fifth method \"len()\""
   ]
  },
  {
   "cell_type": "code",
   "execution_count": null,
   "id": "30e0171c",
   "metadata": {},
   "outputs": [],
   "source": [
    "lst_1 = list(range(1,200,10))\n",
    "lst_2 = list(range(200, 1000, 3))\n",
    "\n",
    "#Necesitamos saber la cantidad de elementos que tiene cada lista\n",
    "#Usa el metodo len para saber cuanto mide cada lista e imprime el resultado\n",
    "\n",
    "#ejemplo:\n",
    "#len(list_name)\n",
    "\n",
    "#Tu codigo aqui abajo:\n",
    "\n",
    "\n"
   ]
  },
  {
   "cell_type": "markdown",
   "id": "cfe74fb0",
   "metadata": {},
   "source": [
    "## Sixth method \"sorted() / .sort()\""
   ]
  },
  {
   "cell_type": "code",
   "execution_count": null,
   "id": "65443472",
   "metadata": {},
   "outputs": [],
   "source": [
    "non_sorted_list = [\"Pablito\", \"Clavo\", \"Un\", \"Clavito\", \"Pablito\", \"Es\", \"Pasmadito\", \"No\", \"Lo\", \"Clavo\", \"Bonito\", \"Y\", \"Tuvo\", \"Un\", \"Little Pablito\"]\n",
    "\n",
    "#Usando el metodo sorted arregla la lista para que este ordenada por la primera letra, y luego hazlo alrevez.\n",
    "\n",
    "#ejemplo\n",
    "\n",
    "#sorted(name_list)\n",
    "#sorted(name_list, reverse=True)\n",
    "\n",
    "#Tu codigo aqui abajo:\n",
    "\n",
    "\n"
   ]
  },
  {
   "cell_type": "code",
   "execution_count": null,
   "id": "d3649a56",
   "metadata": {},
   "outputs": [],
   "source": []
  }
 ],
 "metadata": {
  "kernelspec": {
   "display_name": "Python 3 (ipykernel)",
   "language": "python",
   "name": "python3"
  },
  "language_info": {
   "codemirror_mode": {
    "name": "ipython",
    "version": 3
   },
   "file_extension": ".py",
   "mimetype": "text/x-python",
   "name": "python",
   "nbconvert_exporter": "python",
   "pygments_lexer": "ipython3",
   "version": "3.9.12"
  }
 },
 "nbformat": 4,
 "nbformat_minor": 5
}
